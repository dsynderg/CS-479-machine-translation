{
  "nbformat": 4,
  "nbformat_minor": 0,
  "metadata": {
    "colab": {
      "provenance": [],
      "include_colab_link": true
    },
    "kernelspec": {
      "name": "python3",
      "display_name": "Python 3"
    },
    "language_info": {
      "name": "python"
    }
  },
  "cells": [
    {
      "cell_type": "markdown",
      "metadata": {
        "id": "view-in-github",
        "colab_type": "text"
      },
      "source": [
        "<a href=\"https://colab.research.google.com/github/dsynderg/CS-479-machine-translation/blob/main/CS_479_Regex_Activity.ipynb\" target=\"_parent\"><img src=\"https://colab.research.google.com/assets/colab-badge.svg\" alt=\"Open In Colab\"/></a>"
      ]
    },
    {
      "cell_type": "markdown",
      "source": [
        "# Interactive Regex Basics in Python (15-Minute Tour)\n",
        "\n",
        "**Goal:** Learn the fundamental concepts of Regular Expressions (Regex) and how to use them in Python using the `re` module.\n",
        "\n",
        "**Time:** ~15 minutes\n",
        "\n",
        "**Format:** Read the explanations and fill in the missing `pattern` variable in the code cells marked with `# TODO:`. Run each code cell to check your work against the expected output.\n",
        "\n",
        "---\n",
        "\n",
        "## Cell 1: Introduction & Setup\n",
        "\n",
        "**What are Regular Expressions?**\n",
        "\n",
        "Regular Expressions (or regex) are sequences of characters that define a search pattern. They are used to match character combinations in strings. Think of them as a super-powered \"find\" or \"search\" tool for text.\n",
        "\n",
        "**Why use them?**\n",
        "\n",
        "* Validating input (e.g., checking if text looks like an email address or phone number).\n",
        "* Searching for specific patterns in large amounts of text.\n",
        "* Extracting specific information (like dates, numbers, or names) from text.\n",
        "* Replacing text that matches a pattern.\n",
        "\n",
        "**Python's `re` Module**\n",
        "\n",
        "Python has a built-in module called `re` to work with regular expressions. Let's import it.\n"
      ],
      "metadata": {
        "id": "RWT2vJqySiM4"
      }
    },
    {
      "cell_type": "code",
      "source": [
        "# Import the regular expression module\n",
        "import re\n",
        "\n",
        "print(\"re module imported successfully!\")\n"
      ],
      "metadata": {
        "id": "ZS6Cb1iIRqNU"
      },
      "execution_count": null,
      "outputs": []
    },
    {
      "cell_type": "markdown",
      "source": [
        "---\n",
        "\n",
        "## Cell 2: Literal Characters\n",
        "\n",
        "The simplest regex patterns match literal characters. The pattern `cat` will find the exact sequence of characters \"c\", \"a\", \"t\".\n",
        "\n",
        "We'll use `re.search(pattern, text)`. This function scans the `text` looking for the *first* location where the `pattern` produces a match. It returns a special \"match object\" if found, otherwise it returns `None`. We use `r\"...\"` (raw strings) for patterns to avoid issues with backslashes.\n",
        "\n",
        "**Exercise:** Find the word \"fox\" in the text below.\n"
      ],
      "metadata": {
        "id": "6qIsTJkAR5OZ"
      }
    },
    {
      "cell_type": "code",
      "source": [
        "# Text to search within\n",
        "text_to_search_1 = \"The quick brown fox jumps over the lazy dog.\"\n",
        "\n",
        "# TODO: Write the regex pattern to find the literal word \"fox\"\n",
        "# Use a raw string: r\"your_pattern_here\"\n",
        "pattern_1 = # Fill in the blank here\n",
        "\n",
        "# Perform the search\n",
        "match_1 = re.search(pattern_1, text_to_search_1)\n",
        "\n",
        "# Check if a match was found and print details\n",
        "if match_1:\n",
        "    # match.group() returns the matched string\n",
        "    # match.start() returns the starting index of the match\n",
        "    # match.end() returns the ending index of the match\n",
        "    print(f\"Found a match: '{match_1.group()}' starting at index {match_1.start()} and ending at index {match_1.end()}\")\n",
        "else:\n",
        "    print(\"No match found.\")\n",
        "\n",
        "# Expected Output: Found a match: 'fox' starting at index 16 and ending at index 19\n"
      ],
      "metadata": {
        "id": "I551cP3-R56x"
      },
      "execution_count": null,
      "outputs": []
    },
    {
      "cell_type": "markdown",
      "source": [
        "---\n",
        "\n",
        "## Cell 3: Metacharacters: The Dot (`.`) and Character Sets (`[]`)\n",
        "\n",
        "Metacharacters have special meanings in regex.\n",
        "\n",
        "* `.` (Dot): Matches *any single character* (except newline `\\n`).\n",
        "* `[]` (Character Set): Matches *any one* of the characters inside the brackets.\n",
        "    * Example: `[aeiou]` matches any vowel.\n",
        "    * Ranges: `[a-z]` matches any lowercase letter, `[0-9]` matches any digit.\n",
        "\n",
        "**Exercise 1:** Find any three-letter word starting with 'd', ending with 'g'.\n"
      ],
      "metadata": {
        "id": "3SPSXDhESrVR"
      }
    },
    {
      "cell_type": "code",
      "source": [
        "# Text for this cell's exercises\n",
        "text_to_search_2 = \"The quick brown fox jumps over the lazy dog digging a den.\"\n",
        "\n",
        "# TODO: Write a pattern to match 'd', then ANY single character, then 'g'.\n",
        "# Use the dot (.) metacharacter.\n",
        "pattern_2a = # Fill in the blank here\n",
        "\n",
        "match_2a = re.search(pattern_2a, text_to_search_2)\n",
        "\n",
        "if match_2a:\n",
        "    print(f\"Found a match using '.': '{match_2a.group()}' at index {match_2a.start()}\")\n",
        "else:\n",
        "    print(\"No match found using '.'\")\n",
        "\n",
        "# Expected Output: Found a match using '.': 'dog' at index 39\n"
      ],
      "metadata": {
        "id": "JspbSRqcSmIp"
      },
      "execution_count": null,
      "outputs": []
    },
    {
      "cell_type": "markdown",
      "source": [
        "**Exercise 2:** Find any occurrence of 'b', 'f', or 'd' followed immediately by 'o'. Use `re.findall()` which returns a list of *all* non-overlapping matches.\n"
      ],
      "metadata": {
        "id": "Odq4xqbdSta7"
      }
    },
    {
      "cell_type": "code",
      "source": [
        "# Text is the same as Cell 3a (text_to_search_2)\n",
        "\n",
        "# TODO: Use a character set [] for the first letter (b, f, or d), followed by 'o'.\n",
        "pattern_2b = # Fill in the blank here\n",
        "\n",
        "# Find all matches\n",
        "matches_2b = re.findall(pattern_2b, text_to_search_2)\n",
        "\n",
        "if matches_2b:\n",
        "    print(f\"Found matches using '[]': {matches_2b}\")\n",
        "else:\n",
        "    print(\"No matches found using '[]'\")\n",
        "\n",
        "# Corrected Expected Output for 3b: Found matches using '[]': ['fo', 'do']\n"
      ],
      "metadata": {
        "id": "_n_MY3e4Swx0"
      },
      "execution_count": null,
      "outputs": []
    },
    {
      "cell_type": "markdown",
      "source": [
        "---\n",
        "\n",
        "## Cell 4: Metacharacters: Anchors (`^`, `$`) and Shorthands (`\\d`, `\\w`, `\\s`)\n",
        "\n",
        "* `^` (Caret): Matches the *start* of the string (or line in multi-line mode).\n",
        "* `$` (Dollar): Matches the *end* of the string (or line in multi-line mode).\n",
        "* `\\d`: Matches any *digit* (equivalent to `[0-9]`).\n",
        "* `\\w`: Matches any *word character* (letters `[a-zA-Z]`, digits `[0-9]`, and underscore `_`).\n",
        "* `\\s`: Matches any *whitespace character* (space ` `, tab `\\t`, newline `\\n`, etc.).\n",
        "\n",
        "**Exercise 1:** Check if the text *starts* with the word \"The\".\n"
      ],
      "metadata": {
        "id": "LnlN5nPWSyUx"
      }
    },
    {
      "cell_type": "code",
      "source": [
        "text_to_search_3 = \"The answer is 42.\"\n",
        "\n",
        "# TODO: Write a pattern to check if the string starts with \"The\"\n",
        "# Use the ^ anchor. Remember a space might follow \"The\".\n",
        "start_pattern = # Fill in the blank here (\\s matches the space)\n",
        "\n",
        "match_start = re.search(start_pattern, text_to_search_3)\n",
        "\n",
        "if match_start:\n",
        "    print(f\"The text starts with 'The'. Match: '{match_start.group()}'\")\n",
        "else:\n",
        "    print(\"The text does not start with 'The'.\")\n",
        "\n",
        "# Expected Output: The text starts with 'The'. Match: 'The '\n"
      ],
      "metadata": {
        "id": "noVxFt8ESzSe"
      },
      "execution_count": null,
      "outputs": []
    },
    {
      "cell_type": "markdown",
      "source": [
        "**Exercise 2:** Find the first sequence of exactly two digits.\n"
      ],
      "metadata": {
        "id": "nI0hcyyzS1kM"
      }
    },
    {
      "cell_type": "code",
      "source": [
        "# Text is the same as Cell 4a (text_to_search_3)\n",
        "\n",
        "# TODO: Write a pattern to find exactly two digits in a row.\n",
        "# Use the \\d shorthand. You need two of them.\n",
        "digit_pattern = # Fill in the blank here\n",
        "\n",
        "match_digits = re.search(digit_pattern, text_to_search_3)\n",
        "\n",
        "if match_digits:\n",
        "    print(f\"Found two digits: '{match_digits.group()}'\")\n",
        "else:\n",
        "    print(\"Did not find two consecutive digits.\")\n",
        "\n",
        "# Expected Output: Found two digits: '42'\n"
      ],
      "metadata": {
        "id": "xCxtQTgiS2XR"
      },
      "execution_count": null,
      "outputs": []
    },
    {
      "cell_type": "markdown",
      "source": [
        "---\n",
        "\n",
        "## Cell 5: Quantifiers (`*`, `+`, `?`, `{}`)\n",
        "\n",
        "Quantifiers specify *how many* times the preceding character, group, or character set should occur.\n",
        "\n",
        "* `*`: Zero or more times. (`go*gle` matches `ggle`, `google`, `gooogle`)\n",
        "* `+`: One or more times. (`go+gle` matches `google`, `gooogle`, but not `ggle`)\n",
        "* `?`: Zero or one time (makes it optional). (`colou?r` matches `color`, `colour`)\n",
        "* `{n}`: Exactly `n` times. (`\\d{3}` matches exactly 3 digits)\n",
        "* `{n,}`: `n` or more times. (`\\d{2,}` matches 2 or more digits)\n",
        "* `{n,m}`: Between `n` and `m` times (inclusive). (`\\d{2,4}` matches 2, 3, or 4 digits)\n",
        "\n",
        "**Exercise:** Find all sequences of 3 or more digits in the text.\n"
      ],
      "metadata": {
        "id": "UaUTQ2qSS4Eg"
      }
    },
    {
      "cell_type": "code",
      "source": [
        "text_to_search_4 = \"Item 1 costs $99. Item 2 costs $1500. Item 3 is $7.\"\n",
        "\n",
        "# TODO: Find all sequences of 3 or more digits.\n",
        "# Use \\d and the {n,} quantifier. Use re.findall().\n",
        "digit_seq_pattern = # Fill in the blank here\n",
        "\n",
        "matches_digits = re.findall(digit_seq_pattern, text_to_search_4)\n",
        "\n",
        "if matches_digits:\n",
        "    print(f\"Found digit sequences (3+ digits long): {matches_digits}\")\n",
        "else:\n",
        "    print(\"No digit sequences of length 3+ found.\")\n",
        "\n",
        "# Expected Output: Found digit sequences (3+ digits long): ['1500']\n"
      ],
      "metadata": {
        "id": "qmVXaR6LS5K9"
      },
      "execution_count": null,
      "outputs": []
    },
    {
      "cell_type": "markdown",
      "source": [
        "---\n",
        "\n",
        "## Cell 6: Grouping (`()`)\n",
        "\n",
        "Parentheses `()` create groups within your regex pattern. This is useful for:\n",
        "\n",
        "1.  Applying quantifiers to multiple characters (e.g., `(ha)+` matches `ha`, `haha`, `hahaha`).\n",
        "2.  Capturing parts of the match separately. `match.group(0)` (or `match.group()`) is the whole match, `match.group(1)` is the content of the first `()`, `match.group(2)` is the second, etc.\n",
        "\n",
        "**Exercise:** Extract the protocol (http/https) and the domain name from URLs.\n"
      ],
      "metadata": {
        "id": "USM6BoUMS70i"
      }
    },
    {
      "cell_type": "code",
      "source": [
        "text_to_search_5 = \"Visit us at http://example.com or https://test-site.org today!\"\n",
        "\n",
        "# TODO: Write a pattern with two groups:\n",
        "# Group 1: Capture 'http' or 'https'. (Hint: 's?' makes 's' optional)\n",
        "# Group 2: Capture the domain name (sequence of word characters, hyphens, and dots after ://).\n",
        "# Remember to escape literal dots: \\.\n",
        "# Use \\w, -, and \\. inside a character set [] for the domain part. Use + for one or more.\n",
        "url_pattern = # Fill in the blank here\n",
        "\n",
        "# Find all matches; findall returns tuples of the captured groups\n",
        "url_matches = re.findall(url_pattern, text_to_search_5)\n",
        "\n",
        "if url_matches:\n",
        "    print(\"Found URL parts (protocol, domain):\")\n",
        "    # url_matches will be a list of tuples, e.g., [('http', 'example.com'), ...]\n",
        "    for match_tuple in url_matches:\n",
        "        print(f\" - Protocol: {match_tuple[0]}, Domain: {match_tuple[1]}\")\n",
        "else:\n",
        "    print(\"No URLs with http/https found.\")\n",
        "\n",
        "# Expected Output:\n",
        "# Found URL parts (protocol, domain):\n",
        "#  - Protocol: http, Domain: example.com\n",
        "#  - Protocol: https, Domain: test-site.org\n"
      ],
      "metadata": {
        "id": "H-fi8oqGS884"
      },
      "execution_count": null,
      "outputs": []
    },
    {
      "cell_type": "markdown",
      "source": [
        "---\n",
        "\n",
        "## Cell 7: Summary & Next Steps\n",
        "\n",
        "Congratulations! You've touched on the basics of regex in Python:\n",
        "\n",
        "* **Literal characters:** Match exact text (`fox`).\n",
        "* **Metacharacters:** Special meanings (`.`, `[]`, `^`, `$`).\n",
        "* **Shorthands:** Common patterns (`\\d`, `\\w`, `\\s`).\n",
        "* **Quantifiers:** Control repetition (`*`, `+`, `?`, `{}`).\n",
        "* **Grouping:** Capture parts of matches (`()`).\n",
        "* **Python `re` functions:** `re.search` (find first), `re.findall` (find all).\n",
        "\n",
        "**Where to go next?**\n",
        "\n",
        "* Explore more complex patterns (lookarounds, non-capturing groups `(?:...)`).\n",
        "* Learn about `re.match` (matches *only* at the beginning of the string) and `re.sub` (find and replace).\n",
        "* Use online regex testers like [regex101.com](https://regex101.com/) to build and debug patterns interactively.\n",
        "* Practice on different kinds of text data!\n"
      ],
      "metadata": {
        "id": "PJ_5p5iQS-2b"
      }
    },
    {
      "cell_type": "code",
      "source": [
        "# No exercise here, just a final message.\n",
        "print(\"Regex basics complete! Keep practicing!\")\n"
      ],
      "metadata": {
        "id": "WxlOcWLgS_zt"
      },
      "execution_count": null,
      "outputs": []
    },
    {
      "cell_type": "code",
      "source": [],
      "metadata": {
        "id": "59Gtp59pTA-_"
      },
      "execution_count": null,
      "outputs": []
    }
  ]
}