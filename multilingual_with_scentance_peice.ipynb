{
  "nbformat": 4,
  "nbformat_minor": 0,
  "metadata": {
    "colab": {
      "provenance": [],
      "authorship_tag": "ABX9TyMYbQFqPLpW035d54QqPi5/",
      "include_colab_link": true
    },
    "kernelspec": {
      "name": "python3",
      "display_name": "Python 3"
    },
    "language_info": {
      "name": "python"
    }
  },
  "cells": [
    {
      "cell_type": "markdown",
      "metadata": {
        "id": "view-in-github",
        "colab_type": "text"
      },
      "source": [
        "<a href=\"https://colab.research.google.com/github/dsynderg/CS-479-machine-translation/blob/main/multilingual_with_scentance_peice.ipynb\" target=\"_parent\"><img src=\"https://colab.research.google.com/assets/colab-badge.svg\" alt=\"Open In Colab\"/></a>"
      ]
    },
    {
      "cell_type": "code",
      "execution_count": 1,
      "metadata": {
        "colab": {
          "base_uri": "https://localhost:8080/"
        },
        "id": "6kRzF-Vo7Z7v",
        "outputId": "2e43cc6f-c6bb-4698-d0fc-36280a682b26"
      },
      "outputs": [
        {
          "output_type": "stream",
          "name": "stdout",
          "text": [
            "Requirement already satisfied: sentencepiece in /usr/local/lib/python3.12/dist-packages (0.2.1)\n"
          ]
        }
      ],
      "source": [
        "!pip install sentencepiece"
      ]
    },
    {
      "cell_type": "code",
      "source": [
        "import sentencepiece as spm\n",
        "\n",
        "spm.SentencePieceTrainer.train(\n",
        "  input='src_train.txt',\n",
        "  model_prefix='english_sp_model',\n",
        "  vocab_size=16000,\n",
        ")\n",
        "\n",
        "spm.SentencePieceTrainer.train(\n",
        "  input='tgt_train.txt',\n",
        "  model_prefix='spanish_sp_model',\n",
        "  vocab_size=16000,\n",
        ")"
      ],
      "metadata": {
        "id": "8Uzf9NMz8FEp"
      },
      "execution_count": null,
      "outputs": []
    },
    {
      "cell_type": "code",
      "source": [
        "!pip install OpenNMT-py\n",
        "!pip install \"numpy<2.0\" # This fixes an error caused by OpenNMT not being maintained"
      ],
      "metadata": {
        "id": "eKFXWkkY8HT2"
      },
      "execution_count": null,
      "outputs": []
    },
    {
      "cell_type": "code",
      "source": [
        "# Build YAML Config file\n",
        "yaml_text = \"\"\"\n",
        "# sentance_peice_yaml.yaml\n",
        "\n",
        "## Where the samples will be written\n",
        "save_data: /content/example\n",
        "\n",
        "src_vocab: /content/example.vocab.src\n",
        "tgt_vocab: /content/example.vocab.tgt\n",
        "\n",
        "# Prevent overwriting existing files in the folder\n",
        "overwrite: True\n",
        "\n",
        "# -- Sentencepiece Params --\n",
        "# Tokenization options\n",
        "src_subword_type: sentencepiece\n",
        "src_subword_model: english_sp_model.model\n",
        "tgt_subword_type: sentencepiece\n",
        "tgt_subword_model: spanish_sp_model.model\n",
        "\n",
        "# Number of candidates for SentencePiece sampling\n",
        "subword_nbest: 20\n",
        "# Smoothing parameter for SentencePiece sampling\n",
        "subword_alpha: 0.1\n",
        "# Specific arguments for pyonmttok\n",
        "src_onmttok_kwargs: \"{'mode': 'none', 'spacer_annotate': True}\"\n",
        "tgt_onmttok_kwargs: \"{'mode': 'none', 'spacer_annotate': True}\"\n",
        "\n",
        "\n",
        "# Corpus opts:\n",
        "data:\n",
        "    corpus_1:\n",
        "        path_src: /content/src_train.txt\n",
        "        path_tgt: /content/tgt_train.txt\n",
        "        transforms: [onmt_tokenize]\n",
        "    valid:\n",
        "        path_src: /content/src_val.txt\n",
        "        path_tgt: /content/tgt_val.txt\n",
        "        transforms: [onmt_tokenize]\n",
        "\n",
        "# Train on a single GPU\n",
        "bucket_size: 10000\n",
        "world_size: 1\n",
        "gpu_ranks: [0]\n",
        "\n",
        "# Where to save the checkpoints\n",
        "save_model: /content/modle\n",
        "save_checkpoint_steps: 500\n",
        "train_steps: 20000\n",
        "valid_steps: 500\n",
        "\"\"\"\n",
        "\n",
        "with open(\"sentance_peice_yaml.yaml\", \"w\") as f:\n",
        "    f.write(yaml_text)"
      ],
      "metadata": {
        "id": "Ym21FgK_8MVI"
      },
      "execution_count": 2,
      "outputs": []
    },
    {
      "cell_type": "code",
      "source": [
        "!onmt_build_vocab -config sentance_peice_yaml.yaml"
      ],
      "metadata": {
        "id": "cApAwSP78WuL"
      },
      "execution_count": null,
      "outputs": []
    },
    {
      "cell_type": "code",
      "source": [
        "!onmt_train -config sentance_peice_yaml.yaml"
      ],
      "metadata": {
        "id": "uYnkaQ618YmF"
      },
      "execution_count": null,
      "outputs": []
    },
    {
      "cell_type": "code",
      "source": [
        "translate_yaml_text = \"\"\"\n",
        "model: /content/modle_step_20000_sentance_peice.pt\n",
        "src: /content/src_test.txt\n",
        "output: /content/sentancepeice_2000.txt\n",
        "gpu: 0\n",
        "verbose: True\n",
        "\n",
        "# Sentencepiece Params\n",
        "\n",
        "# Tokenization options\n",
        "transforms: onmt_tokenize\n",
        "src_subword_type: sentencepiece\n",
        "src_subword_model: english_sp_model.model\n",
        "tgt_subword_type: sentencepiece\n",
        "tgt_subword_model: spanish_sp_model.model\n",
        "\n",
        "src_subword_nbest: 20\n",
        "src_subword_alpha: 0.1\n",
        "\"\"\"\n",
        "\n",
        "with open(\"translate_yaml.yaml\", \"w\") as f:\n",
        "    f.write(translate_yaml_text)"
      ],
      "metadata": {
        "id": "xLWpLanE8eO7"
      },
      "execution_count": null,
      "outputs": []
    },
    {
      "cell_type": "code",
      "source": [
        "!onmt_translate -config translate_yaml.yaml"
      ],
      "metadata": {
        "id": "DyxEqnHw8jbf"
      },
      "execution_count": null,
      "outputs": []
    }
  ]
}